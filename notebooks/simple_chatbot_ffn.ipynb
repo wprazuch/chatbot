{
 "cells": [
  {
   "cell_type": "code",
   "execution_count": 1,
   "metadata": {},
   "outputs": [],
   "source": [
    "import numpy as np\n",
    "from tensorflow.keras.models import Sequential\n",
    "from tensorflow.keras.layers import Dense, Activation, Dropout\n",
    "from tensorflow.keras.optimizers import SGD\n",
    "\n",
    "import random\n",
    "import nltk\n",
    "from nltk.stem import WordNetLemmatizer\n",
    "import json\n",
    "import pickle\n",
    "import os"
   ]
  },
  {
   "cell_type": "code",
   "execution_count": 2,
   "metadata": {},
   "outputs": [],
   "source": [
    "intents_file = open(os.path.join('datasets', 'intents.json')).read()\n",
    "intents = json.loads(intents_file)"
   ]
  },
  {
   "cell_type": "code",
   "execution_count": 3,
   "metadata": {},
   "outputs": [
    {
     "name": "stdout",
     "output_type": "stream",
     "text": [
      "[(['Hi', 'there'], 'greeting'), (['How', 'are', 'you'], 'greeting'), (['Is', 'anyone', 'there', '?'], 'greeting'), (['Hey'], 'greeting'), (['Hola'], 'greeting'), (['Hello'], 'greeting'), (['Good', 'day'], 'greeting'), (['Bye'], 'goodbye'), (['See', 'you', 'later'], 'goodbye'), (['Goodbye'], 'goodbye'), (['Nice', 'chatting', 'to', 'you', ',', 'bye'], 'goodbye'), (['Till', 'next', 'time'], 'goodbye'), (['Thanks'], 'thanks'), (['Thank', 'you'], 'thanks'), (['That', \"'s\", 'helpful'], 'thanks'), (['Awesome', ',', 'thanks'], 'thanks'), (['Thanks', 'for', 'helping', 'me'], 'thanks'), (['How', 'you', 'could', 'help', 'me', '?'], 'options'), (['What', 'you', 'can', 'do', '?'], 'options'), (['What', 'help', 'you', 'provide', '?'], 'options'), (['How', 'you', 'can', 'be', 'helpful', '?'], 'options'), (['What', 'support', 'is', 'offered'], 'options'), (['How', 'to', 'check', 'Adverse', 'drug', 'reaction', '?'], 'adverse_drug'), (['Open', 'adverse', 'drugs', 'module'], 'adverse_drug'), (['Give', 'me', 'a', 'list', 'of', 'drugs', 'causing', 'adverse', 'behavior'], 'adverse_drug'), (['List', 'all', 'drugs', 'suitable', 'for', 'patient', 'with', 'adverse', 'reaction'], 'adverse_drug'), (['Which', 'drugs', 'dont', 'have', 'adverse', 'reaction', '?'], 'adverse_drug'), (['Open', 'blood', 'pressure', 'module'], 'blood_pressure'), (['Task', 'related', 'to', 'blood', 'pressure'], 'blood_pressure'), (['Blood', 'pressure', 'data', 'entry'], 'blood_pressure'), (['I', 'want', 'to', 'log', 'blood', 'pressure', 'results'], 'blood_pressure'), (['Blood', 'pressure', 'data', 'management'], 'blood_pressure'), (['I', 'want', 'to', 'search', 'for', 'blood', 'pressure', 'result', 'history'], 'blood_pressure_search'), (['Blood', 'pressure', 'for', 'patient'], 'blood_pressure_search'), (['Load', 'patient', 'blood', 'pressure', 'result'], 'blood_pressure_search'), (['Show', 'blood', 'pressure', 'results', 'for', 'patient'], 'blood_pressure_search'), (['Find', 'blood', 'pressure', 'results', 'by', 'ID'], 'blood_pressure_search'), (['Find', 'me', 'a', 'pharmacy'], 'pharmacy_search'), (['Find', 'pharmacy'], 'pharmacy_search'), (['List', 'of', 'pharmacies', 'nearby'], 'pharmacy_search'), (['Locate', 'pharmacy'], 'pharmacy_search'), (['Search', 'pharmacy'], 'pharmacy_search'), (['Lookup', 'for', 'hospital'], 'hospital_search'), (['Searching', 'for', 'hospital', 'to', 'transfer', 'patient'], 'hospital_search'), (['I', 'want', 'to', 'search', 'hospital', 'data'], 'hospital_search'), (['Hospital', 'lookup', 'for', 'patient'], 'hospital_search'), (['Looking', 'up', 'hospital', 'details'], 'hospital_search')]\n"
     ]
    }
   ],
   "source": [
    "words = []\n",
    "classes = []\n",
    "documents = []\n",
    "ignore_letters = ['!', '?', ',', '.']\n",
    "\n",
    "for intent in intents['intents']:\n",
    "    for pattern in intent['patterns']:\n",
    "        word = nltk.word_tokenize(pattern)\n",
    "        words.extend(word)\n",
    "\n",
    "        documents.append((word, intent['tag']))\n",
    "\n",
    "        if intent['tag'] not in classes:\n",
    "            classes.append(intent['tag'])\n",
    "\n",
    "print(documents)\n"
   ]
  },
  {
   "cell_type": "markdown",
   "metadata": {},
   "source": [
    "Lemmatize and lowercase each word and remove duplicates"
   ]
  },
  {
   "cell_type": "code",
   "execution_count": 4,
   "metadata": {},
   "outputs": [
    {
     "name": "stdout",
     "output_type": "stream",
     "text": [
      "47 documents\n"
     ]
    }
   ],
   "source": [
    "lemmatizer = WordNetLemmatizer()\n",
    "\n",
    "words = [lemmatizer.lemmatize(w.lower()) for w in words if w not in ignore_letters]\n",
    "\n",
    "words = sorted(list(set(words)))\n",
    "\n",
    "classes = sorted(list(set(classes)))\n",
    "\n",
    "print(len(documents), \"documents\")\n"
   ]
  },
  {
   "cell_type": "code",
   "execution_count": 5,
   "metadata": {},
   "outputs": [
    {
     "name": "stdout",
     "output_type": "stream",
     "text": [
      "9 classes ['adverse_drug', 'blood_pressure', 'blood_pressure_search', 'goodbye', 'greeting', 'hospital_search', 'options', 'pharmacy_search', 'thanks']\n",
      "87 unique lemmatized words [\"'s\", 'a', 'adverse', 'all', 'anyone', 'are', 'awesome', 'be', 'behavior', 'blood', 'by', 'bye', 'can', 'causing', 'chatting', 'check', 'could', 'data', 'day', 'detail', 'do', 'dont', 'drug', 'entry', 'find', 'for', 'give', 'good', 'goodbye', 'have', 'hello', 'help', 'helpful', 'helping', 'hey', 'hi', 'history', 'hola', 'hospital', 'how', 'i', 'id', 'is', 'later', 'list', 'load', 'locate', 'log', 'looking', 'lookup', 'management', 'me', 'module', 'nearby', 'next', 'nice', 'of', 'offered', 'open', 'patient', 'pharmacy', 'pressure', 'provide', 'reaction', 'related', 'result', 'search', 'searching', 'see', 'show', 'suitable', 'support', 'task', 'thank', 'thanks', 'that', 'there', 'till', 'time', 'to', 'transfer', 'up', 'want', 'what', 'which', 'with', 'you']\n"
     ]
    }
   ],
   "source": [
    "print(len(classes), 'classes', classes)\n",
    "\n",
    "print(len(words), \"unique lemmatized words\", words)\n",
    "pickle.dump(words, open('words.pkl', 'wb'))\n",
    "pickle.dump(classes, open('classes.pkl', 'wb'))"
   ]
  },
  {
   "cell_type": "code",
   "execution_count": 6,
   "metadata": {},
   "outputs": [
    {
     "name": "stdout",
     "output_type": "stream",
     "text": [
      "Training data is created\n"
     ]
    },
    {
     "name": "stderr",
     "output_type": "stream",
     "text": [
      "C:\\ProgramData\\Anaconda3\\envs\\deeplearning\\lib\\site-packages\\ipykernel_launcher.py:20: VisibleDeprecationWarning: Creating an ndarray from ragged nested sequences (which is a list-or-tuple of lists-or-tuples-or ndarrays with different lengths or shapes) is deprecated. If you meant to do this, you must specify 'dtype=object' when creating the ndarray\n"
     ]
    }
   ],
   "source": [
    "training = []\n",
    "\n",
    "output_empty = [0] * len(classes)\n",
    "\n",
    "for doc in documents:\n",
    "    bag = []\n",
    "    word_patterns = doc[0]\n",
    "    word_patterns = [lemmatizer.lemmatize(word.lower()) for word in word_patterns]\n",
    "\n",
    "    for word in words:\n",
    "        bag.append(1) if word in word_patterns else bag.append(0)\n",
    "\n",
    "    output_row = list(output_empty)\n",
    "\n",
    "    output_row[classes.index(doc[1])] = 1\n",
    "    training.append([bag, output_row])\n",
    "\n",
    "# shuffle the features and make numpy array\n",
    "random.shuffle(training)\n",
    "training = np.array(training)\n",
    "\n",
    "train_x = list(training[:, 0])\n",
    "train_y = list(training[:, 1])\n",
    "\n",
    "print('Training data is created')"
   ]
  },
  {
   "cell_type": "code",
   "execution_count": 7,
   "metadata": {},
   "outputs": [],
   "source": [
    "train_x = np.array(train_x)\n",
    "train_y = np.array(train_y)"
   ]
  },
  {
   "cell_type": "code",
   "execution_count": 8,
   "metadata": {},
   "outputs": [
    {
     "data": {
      "text/plain": [
       "(47, 87)"
      ]
     },
     "execution_count": 8,
     "metadata": {},
     "output_type": "execute_result"
    }
   ],
   "source": [
    "train_x.shape"
   ]
  },
  {
   "cell_type": "code",
   "execution_count": 9,
   "metadata": {},
   "outputs": [
    {
     "data": {
      "text/plain": [
       "(47, 9)"
      ]
     },
     "execution_count": 9,
     "metadata": {},
     "output_type": "execute_result"
    }
   ],
   "source": [
    "train_y.shape"
   ]
  },
  {
   "cell_type": "code",
   "execution_count": 10,
   "metadata": {},
   "outputs": [
    {
     "name": "stdout",
     "output_type": "stream",
     "text": [
      "Epoch 1/40\n",
      "6/6 [==============================] - 0s 29ms/step - loss: 2.1992 - accuracy: 0.1064\n",
      "Epoch 2/40\n",
      "6/6 [==============================] - 0s 17ms/step - loss: 2.2496 - accuracy: 0.0638\n",
      "Epoch 3/40\n",
      "6/6 [==============================] - 0s 51ms/step - loss: 2.1990 - accuracy: 0.1489\n",
      "Epoch 4/40\n",
      "6/6 [==============================] - 0s 2ms/step - loss: 2.0848 - accuracy: 0.2128\n",
      "Epoch 5/40\n",
      "6/6 [==============================] - 0s 16ms/step - loss: 2.0453 - accuracy: 0.3191\n",
      "Epoch 6/40\n",
      "6/6 [==============================] - 0s 31ms/step - loss: 1.9477 - accuracy: 0.3191\n",
      "Epoch 7/40\n",
      "6/6 [==============================] - 0s 18ms/step - loss: 1.9268 - accuracy: 0.3404\n",
      "Epoch 8/40\n",
      "6/6 [==============================] - 0s 2ms/step - loss: 1.9077 - accuracy: 0.4468\n",
      "Epoch 9/40\n",
      "6/6 [==============================] - 0s 29ms/step - loss: 1.8225 - accuracy: 0.5319\n",
      "Epoch 10/40\n",
      "6/6 [==============================] - 0s 34ms/step - loss: 1.6668 - accuracy: 0.6170\n",
      "Epoch 11/40\n",
      "6/6 [==============================] - 0s 18ms/step - loss: 1.6959 - accuracy: 0.4468\n",
      "Epoch 12/40\n",
      "6/6 [==============================] - 0s 2ms/step - loss: 1.5054 - accuracy: 0.5745\n",
      "Epoch 13/40\n",
      "6/6 [==============================] - 0s 34ms/step - loss: 1.3601 - accuracy: 0.6170\n",
      "Epoch 14/40\n",
      "6/6 [==============================] - 0s 33ms/step - loss: 1.3784 - accuracy: 0.6170\n",
      "Epoch 15/40\n",
      "6/6 [==============================] - 0s 49ms/step - loss: 1.2337 - accuracy: 0.6596\n",
      "Epoch 16/40\n",
      "6/6 [==============================] - 0s 17ms/step - loss: 1.3088 - accuracy: 0.6596\n",
      "Epoch 17/40\n",
      "6/6 [==============================] - 0s 49ms/step - loss: 1.0610 - accuracy: 0.7872\n",
      "Epoch 18/40\n",
      "6/6 [==============================] - 0s 17ms/step - loss: 1.0943 - accuracy: 0.7660\n",
      "Epoch 19/40\n",
      "6/6 [==============================] - 0s 16ms/step - loss: 1.0276 - accuracy: 0.7872\n",
      "Epoch 20/40\n",
      "6/6 [==============================] - 0s 68ms/step - loss: 0.8885 - accuracy: 0.8085\n",
      "Epoch 21/40\n",
      "6/6 [==============================] - 0s 2ms/step - loss: 0.7451 - accuracy: 0.8085\n",
      "Epoch 22/40\n",
      "6/6 [==============================] - 0s 30ms/step - loss: 0.9193 - accuracy: 0.7660\n",
      "Epoch 23/40\n",
      "6/6 [==============================] - 0s 2ms/step - loss: 0.8051 - accuracy: 0.7872\n",
      "Epoch 24/40\n",
      "6/6 [==============================] - 0s 2ms/step - loss: 0.6121 - accuracy: 0.8936\n",
      "Epoch 25/40\n",
      "6/6 [==============================] - 0s 31ms/step - loss: 0.8095 - accuracy: 0.7660\n",
      "Epoch 26/40\n",
      "6/6 [==============================] - 0s 2ms/step - loss: 0.7518 - accuracy: 0.7660\n",
      "Epoch 27/40\n",
      "6/6 [==============================] - 0s 14ms/step - loss: 0.5963 - accuracy: 0.8511\n",
      "Epoch 28/40\n",
      "6/6 [==============================] - 0s 16ms/step - loss: 0.5319 - accuracy: 0.8936\n",
      "Epoch 29/40\n",
      "6/6 [==============================] - 0s 2ms/step - loss: 0.6368 - accuracy: 0.8298\n",
      "Epoch 30/40\n",
      "6/6 [==============================] - 0s 17ms/step - loss: 0.4466 - accuracy: 0.8936\n",
      "Epoch 31/40\n",
      "6/6 [==============================] - 0s 17ms/step - loss: 0.4184 - accuracy: 0.9149\n",
      "Epoch 32/40\n",
      "6/6 [==============================] - 0s 17ms/step - loss: 0.4487 - accuracy: 0.9149\n",
      "Epoch 33/40\n",
      "6/6 [==============================] - 0s 2ms/step - loss: 0.5330 - accuracy: 0.8085\n",
      "Epoch 34/40\n",
      "6/6 [==============================] - 0s 29ms/step - loss: 0.4992 - accuracy: 0.8936\n",
      "Epoch 35/40\n",
      "6/6 [==============================] - 0s 17ms/step - loss: 0.4619 - accuracy: 0.8936\n",
      "Epoch 36/40\n",
      "6/6 [==============================] - 0s 16ms/step - loss: 0.3307 - accuracy: 0.9362\n",
      "Epoch 37/40\n",
      "6/6 [==============================] - 0s 16ms/step - loss: 0.4357 - accuracy: 0.8936\n",
      "Epoch 38/40\n",
      "6/6 [==============================] - 0s 17ms/step - loss: 0.4058 - accuracy: 0.9362\n",
      "Epoch 39/40\n",
      "6/6 [==============================] - 0s 16ms/step - loss: 0.4927 - accuracy: 0.8723\n",
      "Epoch 40/40\n",
      "6/6 [==============================] - 0s 32ms/step - loss: 0.4799 - accuracy: 0.8936\n"
     ]
    }
   ],
   "source": [
    "model = Sequential()\n",
    "model.add(Dense(128, input_shape=(train_x.shape[1],), activation='relu'))\n",
    "model.add(Dropout(0.5))\n",
    "model.add(Dense(64, activation='relu'))\n",
    "model.add(Dropout(0.5))\n",
    "model.add(Dense(train_y.shape[1], activation='softmax'))\n",
    "\n",
    "sgd = SGD(lr=0.01, decay=1e-6, momentum=0.9, nesterov=True)\n",
    "model.compile(loss='categorical_crossentropy', optimizer=sgd, metrics=['accuracy'])\n",
    "\n",
    "hist = model.fit(train_x, train_y, epochs=40, batch_size=8, verbose=1)\n"
   ]
  },
  {
   "cell_type": "code",
   "execution_count": 11,
   "metadata": {},
   "outputs": [],
   "source": [
    "model.save('chatbot_model.h5', hist)"
   ]
  },
  {
   "cell_type": "code",
   "execution_count": null,
   "metadata": {},
   "outputs": [],
   "source": []
  },
  {
   "cell_type": "code",
   "execution_count": null,
   "metadata": {},
   "outputs": [],
   "source": []
  },
  {
   "cell_type": "code",
   "execution_count": null,
   "metadata": {},
   "outputs": [],
   "source": []
  }
 ],
 "metadata": {
  "kernelspec": {
   "display_name": "Python 3",
   "language": "python",
   "name": "python3"
  },
  "language_info": {
   "codemirror_mode": {
    "name": "ipython",
    "version": 3
   },
   "file_extension": ".py",
   "mimetype": "text/x-python",
   "name": "python",
   "nbconvert_exporter": "python",
   "pygments_lexer": "ipython3",
   "version": "3.6.10"
  }
 },
 "nbformat": 4,
 "nbformat_minor": 4
}
